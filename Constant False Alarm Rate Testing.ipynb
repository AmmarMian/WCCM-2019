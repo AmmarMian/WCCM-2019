{
 "cells": [
  {
   "cell_type": "markdown",
   "metadata": {},
   "source": [
    "# Constant False Alarm Rate Testing"
   ]
  },
  {
   "cell_type": "code",
   "execution_count": null,
   "metadata": {},
   "outputs": [],
   "source": [
    "# Importing all needed libraries and functions\n",
    "import numpy as np\n",
    "import time\n",
    "from tqdm import tqdm\n",
    "\n",
    "# Plotting\n",
    "import matplotlib.pyplot as plt\n",
    "\n",
    "# Custom functions\n",
    "from generic_functions import *\n",
    "from multivariate_images_tools import *\n",
    "from change_detection_functions import *\n",
    "from monte_carlo_tools import *"
   ]
  },
  {
   "cell_type": "markdown",
   "metadata": {},
   "source": [
    "## Simulation parameters"
   ]
  },
  {
   "cell_type": "code",
   "execution_count": null,
   "metadata": {},
   "outputs": [],
   "source": [
    "# General parameters\n",
    "p = 10    # Dimension of vectors\n",
    "N = 25    # Number of samples\n",
    "T = 2     # Number of dates\n",
    "\n",
    "# Enable parallel processing (or not)\n",
    "enable_multi = False\n",
    "# These two variables serves to split the original image into sub-images to be treated in parallel\n",
    "# In general the optimal parameters are obtained for \n",
    "# number_of_threads = number of cores on the machine\n",
    "number_of_threads = 4\n",
    "\n",
    "\n",
    "# Number of Monte Carlo trials to compute histograms\n",
    "number_of_trials = 4000  \n",
    "number_of_bins_histogram = 30\n",
    "\n",
    "# List of statistics to compute\n",
    "statistic_list = [covariance_equality_glrt_gaussian_statistic, \n",
    "                 covariance_equality_t1_gaussian_statistic,\n",
    "                  covariance_equality_Wald_gaussian_statistic,\n",
    "                 complex_Hotelling_Lawley_trace_statistic,\n",
    "                  scale_and_shape_equality_robust_statistic,\n",
    "                  Kullback_Leibler_statistic,\n",
    "                  Similarity_measure_Meng_Liu,\n",
    "                  Natural_Geodesic_statistic,\n",
    "                Natural_student_t_distance,\n",
    "                Wasserstein_Gaussian_statistic,\n",
    "                 Wasserstein_robust_statistic]\n",
    "statistic_names = [r'Gaussian GLRT', \n",
    "                   r't1 statistic',\n",
    "                   r'Wald statistic',\n",
    "                   r'HTL statistic',\n",
    "                   r'MT statistic',\n",
    "                  r'Kullback Leibler statistic',\n",
    "                   r'MLL statistic',\n",
    "                   r'Natural Gaussian Geodesic statistic',\n",
    "                    r'Natural_student_t_distance',\n",
    "                   r'Wasserstein Gaussian statistic',\n",
    "                  r'Wasserstein robust statistic']\n",
    "args_list = ['log', 'linear', 'log', None, (0.01, 15, 'log'), None, (0.01,15), None, (3,0.01,15),  None, (0.01,15)]\n",
    "number_of_statistics = len(statistic_list)"
   ]
  },
  {
   "cell_type": "markdown",
   "metadata": {},
   "source": [
    "## Testing Contant False Alarm property by comparing histograms of statistics with different covariance matrices"
   ]
  },
  {
   "cell_type": "code",
   "execution_count": null,
   "metadata": {},
   "outputs": [],
   "source": [
    "# Parameters for Multivariate Complex Gaussian distribution\n",
    "𝛍 = np.zeros(p)\n",
    "pseudo_𝚺 = 0\n",
    "ρ_vec = [0.1, 0.5, 0.9]  # List of Toeplitz matrices\n",
    "τ_vec = [10,20,30]\n",
    "\n",
    "# Setting useful variables for the Monte-Carlo\n",
    "data_generation_function = generate_time_series_multivariate_vector\n",
    "generation_function = wrapper_multivariate_complex_normal_samples\n",
    "function_to_compute = compute_several_statistics\n",
    "function_args = [statistic_list, args_list]"
   ]
  },
  {
   "cell_type": "code",
   "execution_count": null,
   "metadata": {},
   "outputs": [],
   "source": [
    "# Doing the Monte Carlo simulation\n",
    "λ = np.zeros((number_of_trials, len(statistic_list), len(ρ_vec)))\n",
    "for i_ρ, ρ in enumerate(ρ_vec): # Iterate for each covariance matrix\n",
    "        print(\"Doing Monte Carlo %d of %d\" % (i_ρ+1, len(ρ_vec)))\n",
    "        \n",
    "        # Generating Covariance matrix with given ρ\n",
    "        𝚺 = τ_vec[i_ρ]*ToeplitzMatrix(ρ, p)\n",
    "        \n",
    "        # Generating parameters to pass to the Monte-Carlo function: since\n",
    "        # the series is homogeneous, we repeat T times\n",
    "        data_args_list = [[𝛍, 𝚺, N, pseudo_𝚺]]*T \n",
    "        data_generation_args = [p, N, T, generation_function, data_args_list]\n",
    "\n",
    "        # Computing the Monte-Carlo simulation for this covariance matrix\n",
    "        λ[:,:,i_ρ] = np.array(compute_monte_carlo_parallel(data_generation_function, data_generation_args, \n",
    "                                        function_to_compute, function_args, \n",
    "                                        number_of_trials, multi=enable_multi, number_of_threads=number_of_threads,\n",
    "                                        progressbar=not enable_multi))"
   ]
  },
  {
   "cell_type": "code",
   "execution_count": null,
   "metadata": {},
   "outputs": [],
   "source": [
    "# Plotting\n",
    "for i_Λ, Λ in enumerate(statistic_names): # A figure by statistic\n",
    "    plt.figure(figsize=(12, 7), dpi=80, facecolor='w')\n",
    "    ax = plt.gca()\n",
    "    for i_ρ, ρ in enumerate(ρ_vec): # Plotting the different histograms for each value of ρ\n",
    "        # Sometimes infinite value can appear due to overflow, we skip them\n",
    "        λ_to_plot = λ[:,i_Λ, i_ρ]\n",
    "        λ_to_plot = λ_to_plot[λ_to_plot!=np.inf]\n",
    "        plt.hist(λ_to_plot, number_of_bins_histogram, \n",
    "                     label=r'$\\rho=%.2f$' % ρ, alpha=0.5, density=True,\n",
    "                     edgecolor='black', linewidth=0.5)\n",
    "    plt.legend()\n",
    "    plt.xlabel(r'$\\lambda$')\n",
    "    plt.ylabel(r'PDF')\n",
    "    plt.title(r'Martix CFAR property for %s' % Λ)\n",
    "plt.show()"
   ]
  },
  {
   "cell_type": "code",
   "execution_count": null,
   "metadata": {},
   "outputs": [],
   "source": []
  },
  {
   "cell_type": "code",
   "execution_count": null,
   "metadata": {},
   "outputs": [],
   "source": []
  }
 ],
 "metadata": {
  "kernelspec": {
   "display_name": "Python 3",
   "language": "python",
   "name": "python3"
  },
  "language_info": {
   "codemirror_mode": {
    "name": "ipython",
    "version": 3
   },
   "file_extension": ".py",
   "mimetype": "text/x-python",
   "name": "python",
   "nbconvert_exporter": "python",
   "pygments_lexer": "ipython3",
   "version": "3.6.5"
  }
 },
 "nbformat": 4,
 "nbformat_minor": 2
}
