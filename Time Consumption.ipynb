{
 "cells": [
  {
   "cell_type": "markdown",
   "metadata": {},
   "source": [
    "# Time Consumption"
   ]
  },
  {
   "cell_type": "code",
   "execution_count": null,
   "metadata": {},
   "outputs": [],
   "source": [
    "# Importing all needed libraries and functions\n",
    "\n",
    "import numpy as np\n",
    "import time\n",
    "from tqdm import tqdm\n",
    "\n",
    "# Plotting\n",
    "import matplotlib.pyplot as plt\n",
    "import plotly.graph_objs as go\n",
    "from plotly.offline import download_plotlyjs, init_notebook_mode, plot, iplot\n",
    "init_notebook_mode()\n",
    "\n",
    "# Custom functions\n",
    "from generic_functions import *\n",
    "from multivariate_images_tools import *\n",
    "from change_detection_functions import *\n",
    "from monte_carlo_tools import *"
   ]
  },
  {
   "cell_type": "markdown",
   "metadata": {},
   "source": [
    "## Simulation parameters"
   ]
  },
  {
   "cell_type": "code",
   "execution_count": null,
   "metadata": {},
   "outputs": [],
   "source": [
    "# General parameters\n",
    "p = 10    # Dimension of vectors\n",
    "N = 25    # Number of samples\n",
    "T = 2     # Number of dates\n",
    "\n",
    "# Enable parallel processing (or not)\n",
    "enable_multi = False\n",
    "# These two variables serves to split the original image into sub-images to be treated in parallel\n",
    "# In general the optimal parameters are obtained for \n",
    "# number_of_threads = number of cores on the machine\n",
    "number_of_threads = 4\n",
    "\n",
    "\n",
    "# Number of Monte Carlo trials to compute histograms\n",
    "number_of_trials = 4000  \n",
    "number_of_bins_histogram = 30\n",
    "\n",
    "# List of statistics to compute (take one for measure)\n",
    "statistic_list = [covariance_equality_glrt_gaussian_statistic, \n",
    "                 covariance_equality_t1_gaussian_statistic,\n",
    "                  covariance_equality_Wald_gaussian_statistic,\n",
    "                 complex_Hotelling_Lawley_trace_statistic,\n",
    "                  scale_and_shape_equality_robust_statistic,\n",
    "                  Kullback_Leibler_statistic,\n",
    "                  Similarity_measure_Meng_Liu,\n",
    "                  Natural_Geodesic_statistic,\n",
    "                Natural_student_t_distance,\n",
    "                Wasserstein_Gaussian_statistic,\n",
    "                 Wasserstein_robust_statistic]\n",
    "statistic_names = [r'Gaussian GLRT', \n",
    "                   r't1 statistic',\n",
    "                   r'Wald statistic',\n",
    "                   r'HTL statistic',\n",
    "                   r'MT statistic',\n",
    "                  r'Kullback Leibler statistic',\n",
    "                   r'MLL statistic',\n",
    "                   r'Natural Gaussian Geodesic statistic',\n",
    "                    r'Natural_student_t_distance',\n",
    "                   r'Wasserstein Gaussian statistic',\n",
    "                  r'Wasserstein robust statistic']\n",
    "args_list = ['log', 'linear', 'log', None, (0.01, 15, 'log'), None, (0.01,15), None, (3,0.01,15),  None, (0.01,15)]\n",
    "number_of_statistics = len(statistic_list)"
   ]
  },
  {
   "cell_type": "markdown",
   "metadata": {},
   "source": [
    "## Measuring time"
   ]
  },
  {
   "cell_type": "code",
   "execution_count": null,
   "metadata": {},
   "outputs": [],
   "source": [
    "# Parameters for Multivariate Complex Gaussian distribution\n",
    "𝛍 = np.zeros(p)\n",
    "pseudo_𝚺 = 0\n",
    "ρ = 0.5  # List of Toeplitz matrices\n",
    "τ= 10\n",
    "\n",
    "# Setting useful variables for the Monte-Carlo\n",
    "data_generation_function = generate_time_series_multivariate_vector\n",
    "generation_function = wrapper_multivariate_complex_normal_samples\n",
    "function_to_compute = compute_several_statistics\n",
    "function_args = [statistic_list, args_list]"
   ]
  },
  {
   "cell_type": "code",
   "execution_count": null,
   "metadata": {},
   "outputs": [],
   "source": [
    "# Doing the Monte Carlo simulation\n",
    "\n",
    "\n",
    "# Generating Covariance matrix with given ρ\n",
    "𝚺 = τ*ToeplitzMatrix(ρ, p)\n",
    "\n",
    "# Generating parameters to pass to the Monte-Carlo function: since\n",
    "# the series is homogeneous, we repeat T times\n",
    "data_args_list = [[𝛍, 𝚺, N, pseudo_𝚺]]*T \n",
    "data_generation_args = [p, N, T, generation_function, data_args_list]\n",
    "\n",
    "# Computing the Monte-Carlo simulation for this covariance matrix\n",
    "t_0 = time.time()\n",
    "λ = np.array(compute_monte_carlo_parallel(data_generation_function, data_generation_args, \n",
    "                                function_to_compute, function_args, \n",
    "                                number_of_trials, multi=enable_multi, number_of_threads=number_of_threads,\n",
    "                                progressbar=not enable_multi))\n",
    "t_1 = time.time()\n",
    "print('Time consumption (%f)' % ((t_1-t_0)/number_of_trials))"
   ]
  },
  {
   "cell_type": "code",
   "execution_count": null,
   "metadata": {},
   "outputs": [],
   "source": []
  },
  {
   "cell_type": "code",
   "execution_count": null,
   "metadata": {},
   "outputs": [],
   "source": []
  }
 ],
 "metadata": {
  "kernelspec": {
   "display_name": "Python 3",
   "language": "python",
   "name": "python3"
  },
  "language_info": {
   "codemirror_mode": {
    "name": "ipython",
    "version": 3
   },
   "file_extension": ".py",
   "mimetype": "text/x-python",
   "name": "python",
   "nbconvert_exporter": "python",
   "pygments_lexer": "ipython3",
   "version": "3.6.5"
  }
 },
 "nbformat": 4,
 "nbformat_minor": 2
}
